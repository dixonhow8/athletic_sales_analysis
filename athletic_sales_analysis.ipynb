{
 "cells": [
  {
   "cell_type": "code",
   "execution_count": 83,
   "metadata": {},
   "outputs": [],
   "source": [
    "# Import Libraries and Dependencies\n",
    "import pandas as pd"
   ]
  },
  {
   "cell_type": "markdown",
   "metadata": {},
   "source": [
    "### 1. Combine and Clean the Data\n",
    "#### Import CSVs"
   ]
  },
  {
   "cell_type": "code",
   "execution_count": 84,
   "metadata": {},
   "outputs": [],
   "source": [
    "# Read the CSV files into DataFrames.\n",
    "# Reading the CSV files\n",
    "athletic_sales_2020_df = pd.read_csv('athletic_sales_2020.csv')\n",
    "athletic_sales_2021_df = pd.read_csv('athletic_sales_2020.csv')\n",
    "\n"
   ]
  },
  {
   "cell_type": "code",
   "execution_count": 85,
   "metadata": {},
   "outputs": [
    {
     "name": "stdout",
     "output_type": "stream",
     "text": [
      "      retailer  retailer_id invoice_date     region         state  \\\n",
      "0  Foot Locker      1185732       1/1/20  Northeast      New York   \n",
      "1  Foot Locker      1185732       1/1/20  Northeast  Pennsylvania   \n",
      "2  Foot Locker      1185732       1/1/20  Northeast  Pennsylvania   \n",
      "3  Foot Locker      1185732       1/1/20  Northeast      New York   \n",
      "4  Foot Locker      1185732       1/1/20  Northeast  Pennsylvania   \n",
      "\n",
      "           city                product  price_per_unit  units_sold  \\\n",
      "0      New York  Men's Street Footwear              50        1200   \n",
      "1  Philadelphia        Women's Apparel              68          83   \n",
      "2  Philadelphia        Women's Apparel              75         275   \n",
      "3      New York  Men's Street Footwear              34         384   \n",
      "4  Philadelphia        Women's Apparel              53          83   \n",
      "\n",
      "   total_sales  operating_profit sales_method  \n",
      "0       600000         300000.00     In-store  \n",
      "1         5644           2426.92       Online  \n",
      "2       206250          61875.00       Outlet  \n",
      "3        13056           6789.12       Outlet  \n",
      "4         4399           1407.68       Outlet  \n"
     ]
    }
   ],
   "source": [
    "# Display the 2020 sales DataFrame\n",
    "\n",
    "print(athletic_sales_2020_df.head())\n",
    "\n",
    "\n"
   ]
  },
  {
   "cell_type": "code",
   "execution_count": 86,
   "metadata": {},
   "outputs": [
    {
     "name": "stdout",
     "output_type": "stream",
     "text": [
      "      retailer  retailer_id invoice_date     region         state  \\\n",
      "0  Foot Locker      1185732       1/1/20  Northeast      New York   \n",
      "1  Foot Locker      1185732       1/1/20  Northeast  Pennsylvania   \n",
      "2  Foot Locker      1185732       1/1/20  Northeast  Pennsylvania   \n",
      "3  Foot Locker      1185732       1/1/20  Northeast      New York   \n",
      "4  Foot Locker      1185732       1/1/20  Northeast  Pennsylvania   \n",
      "\n",
      "           city                product  price_per_unit  units_sold  \\\n",
      "0      New York  Men's Street Footwear              50        1200   \n",
      "1  Philadelphia        Women's Apparel              68          83   \n",
      "2  Philadelphia        Women's Apparel              75         275   \n",
      "3      New York  Men's Street Footwear              34         384   \n",
      "4  Philadelphia        Women's Apparel              53          83   \n",
      "\n",
      "   total_sales  operating_profit sales_method  \n",
      "0       600000         300000.00     In-store  \n",
      "1         5644           2426.92       Online  \n",
      "2       206250          61875.00       Outlet  \n",
      "3        13056           6789.12       Outlet  \n",
      "4         4399           1407.68       Outlet  \n"
     ]
    }
   ],
   "source": [
    "# Display the 2021 sales DataFrame\n",
    "print(athletic_sales_2021_df.head())"
   ]
  },
  {
   "cell_type": "markdown",
   "metadata": {},
   "source": [
    "#### Check the data types of each DataFrame"
   ]
  },
  {
   "cell_type": "code",
   "execution_count": 87,
   "metadata": {},
   "outputs": [
    {
     "name": "stdout",
     "output_type": "stream",
     "text": [
      "retailer             object\n",
      "retailer_id           int64\n",
      "invoice_date         object\n",
      "region               object\n",
      "state                object\n",
      "city                 object\n",
      "product              object\n",
      "price_per_unit        int64\n",
      "units_sold            int64\n",
      "total_sales           int64\n",
      "operating_profit    float64\n",
      "sales_method         object\n",
      "dtype: object\n"
     ]
    }
   ],
   "source": [
    "# Check the 2020 sales data types.\n",
    "\n",
    "print(athletic_sales_2020_df.dtypes)\n"
   ]
  },
  {
   "cell_type": "code",
   "execution_count": 88,
   "metadata": {},
   "outputs": [
    {
     "name": "stdout",
     "output_type": "stream",
     "text": [
      "retailer             object\n",
      "retailer_id           int64\n",
      "invoice_date         object\n",
      "region               object\n",
      "state                object\n",
      "city                 object\n",
      "product              object\n",
      "price_per_unit        int64\n",
      "units_sold            int64\n",
      "total_sales           int64\n",
      "operating_profit    float64\n",
      "sales_method         object\n",
      "dtype: object\n"
     ]
    }
   ],
   "source": [
    "# Check the 2021 sales data types.\n",
    "print(athletic_sales_2021_df.dtypes)\n"
   ]
  },
  {
   "cell_type": "markdown",
   "metadata": {},
   "source": [
    "#### Combine the sales data by rows."
   ]
  },
  {
   "cell_type": "code",
   "execution_count": 89,
   "metadata": {},
   "outputs": [
    {
     "name": "stdout",
     "output_type": "stream",
     "text": [
      "      retailer  retailer_id invoice_date     region         state  \\\n",
      "0  Foot Locker      1185732       1/1/20  Northeast      New York   \n",
      "1  Foot Locker      1185732       1/1/20  Northeast  Pennsylvania   \n",
      "2  Foot Locker      1185732       1/1/20  Northeast  Pennsylvania   \n",
      "3  Foot Locker      1185732       1/1/20  Northeast      New York   \n",
      "4  Foot Locker      1185732       1/1/20  Northeast  Pennsylvania   \n",
      "\n",
      "           city                product  price_per_unit  units_sold  \\\n",
      "0      New York  Men's Street Footwear              50        1200   \n",
      "1  Philadelphia        Women's Apparel              68          83   \n",
      "2  Philadelphia        Women's Apparel              75         275   \n",
      "3      New York  Men's Street Footwear              34         384   \n",
      "4  Philadelphia        Women's Apparel              53          83   \n",
      "\n",
      "   total_sales  operating_profit sales_method  \n",
      "0       600000         300000.00     In-store  \n",
      "1         5644           2426.92       Online  \n",
      "2       206250          61875.00       Outlet  \n",
      "3        13056           6789.12       Outlet  \n",
      "4         4399           1407.68       Outlet  \n",
      "Combined DataFrame shape: (2594, 12)\n"
     ]
    }
   ],
   "source": [
    "# Combine the 2020 and 2021 sales DataFrames on the rows and reset the index.\n",
    "\n",
    "combined_df = pd.concat([athletic_sales_2021_df, athletic_sales_2021_df], axis=0)\n",
    "\n",
    "# Resetting the index\n",
    "combined_df.reset_index(drop=True, inplace=True)\n",
    "\n",
    "# Displaying the first few rows of the combined DataFrame\n",
    "print(combined_df.head())\n",
    "\n",
    "# Checking the shape of the combined DataFrame\n",
    "print(f\"Combined DataFrame shape: {combined_df.shape}\")\n"
   ]
  },
  {
   "cell_type": "code",
   "execution_count": 90,
   "metadata": {},
   "outputs": [
    {
     "name": "stdout",
     "output_type": "stream",
     "text": [
      "Null values in each column:\n",
      "retailer            0\n",
      "retailer_id         0\n",
      "invoice_date        0\n",
      "region              0\n",
      "state               0\n",
      "city                0\n",
      "product             0\n",
      "price_per_unit      0\n",
      "units_sold          0\n",
      "total_sales         0\n",
      "operating_profit    0\n",
      "sales_method        0\n",
      "dtype: int64\n",
      "\n",
      "Columns with any null values:\n",
      "Series([], dtype: int64)\n"
     ]
    }
   ],
   "source": [
    "# Check if any values are null.\n",
    "null_values = combined_df.isnull().sum()\n",
    "print(\"Null values in each column:\")\n",
    "print(null_values)\n",
    "\n",
    "# Displaying columns with any null values\n",
    "print(\"\\nColumns with any null values:\")\n",
    "print(null_values[null_values > 0])\n"
   ]
  },
  {
   "cell_type": "code",
   "execution_count": 91,
   "metadata": {},
   "outputs": [
    {
     "name": "stdout",
     "output_type": "stream",
     "text": [
      "retailer             object\n",
      "retailer_id           int64\n",
      "invoice_date         object\n",
      "region               object\n",
      "state                object\n",
      "city                 object\n",
      "product              object\n",
      "price_per_unit        int64\n",
      "units_sold            int64\n",
      "total_sales           int64\n",
      "operating_profit    float64\n",
      "sales_method         object\n",
      "dtype: object\n"
     ]
    }
   ],
   "source": [
    "# Check the data type of each column\n",
    "print(combined_df.dtypes)\n"
   ]
  },
  {
   "cell_type": "code",
   "execution_count": 92,
   "metadata": {},
   "outputs": [
    {
     "name": "stdout",
     "output_type": "stream",
     "text": [
      "0    1/1/20\n",
      "1    1/1/20\n",
      "2    1/1/20\n",
      "3    1/1/20\n",
      "4    1/1/20\n",
      "Name: invoice_date, dtype: object\n"
     ]
    },
    {
     "name": "stderr",
     "output_type": "stream",
     "text": [
      "C:\\Users\\dixon\\AppData\\Local\\Temp\\ipykernel_1552\\248689564.py:7: UserWarning: Could not infer format, so each element will be parsed individually, falling back to `dateutil`. To ensure parsing is consistent and as-expected, please specify a format.\n",
      "  combined_df['invoice_date'] = pd.to_datetime(combined_df['invoice_date'])\n"
     ]
    }
   ],
   "source": [
    "# Convert the \"invoice_date\" to a datetime datatype\n",
    "\n",
    "# Inspect a few entries in the invoice_date column to determine the date format\n",
    "print(combined_df['invoice_date'].head())\n",
    "\n",
    "# Convert invoice_date from object to datetime using the specified format\n",
    "combined_df['invoice_date'] = pd.to_datetime(combined_df['invoice_date'])\n",
    "\n"
   ]
  },
  {
   "cell_type": "code",
   "execution_count": 93,
   "metadata": {},
   "outputs": [
    {
     "name": "stdout",
     "output_type": "stream",
     "text": [
      "retailer                    object\n",
      "retailer_id                  int64\n",
      "invoice_date        datetime64[ns]\n",
      "region                      object\n",
      "state                       object\n",
      "city                        object\n",
      "product                     object\n",
      "price_per_unit               int64\n",
      "units_sold                   int64\n",
      "total_sales                  int64\n",
      "operating_profit           float64\n",
      "sales_method                object\n",
      "dtype: object\n",
      "      retailer  retailer_id invoice_date     region         state  \\\n",
      "0  Foot Locker      1185732   2020-01-01  Northeast      New York   \n",
      "1  Foot Locker      1185732   2020-01-01  Northeast  Pennsylvania   \n",
      "2  Foot Locker      1185732   2020-01-01  Northeast  Pennsylvania   \n",
      "3  Foot Locker      1185732   2020-01-01  Northeast      New York   \n",
      "4  Foot Locker      1185732   2020-01-01  Northeast  Pennsylvania   \n",
      "\n",
      "           city                product  price_per_unit  units_sold  \\\n",
      "0      New York  Men's Street Footwear              50        1200   \n",
      "1  Philadelphia        Women's Apparel              68          83   \n",
      "2  Philadelphia        Women's Apparel              75         275   \n",
      "3      New York  Men's Street Footwear              34         384   \n",
      "4  Philadelphia        Women's Apparel              53          83   \n",
      "\n",
      "   total_sales  operating_profit sales_method  \n",
      "0       600000         300000.00     In-store  \n",
      "1         5644           2426.92       Online  \n",
      "2       206250          61875.00       Outlet  \n",
      "3        13056           6789.12       Outlet  \n",
      "4         4399           1407.68       Outlet  \n"
     ]
    }
   ],
   "source": [
    "# Confirm that the \"invoice_date\" data type has been changed.\n",
    "print(combined_df.dtypes)\n",
    "\n",
    "# Displaying the first few rows of the DataFrame to verify the conversion\n",
    "print(combined_df.head())"
   ]
  },
  {
   "cell_type": "markdown",
   "metadata": {},
   "source": [
    "### 2. Determine which Region Sold the Most Products"
   ]
  },
  {
   "cell_type": "markdown",
   "metadata": {},
   "source": [
    "#### Using `groupby`"
   ]
  },
  {
   "cell_type": "code",
   "execution_count": 94,
   "metadata": {},
   "outputs": [
    {
     "data": {
      "text/html": [
       "<div>\n",
       "<style scoped>\n",
       "    .dataframe tbody tr th:only-of-type {\n",
       "        vertical-align: middle;\n",
       "    }\n",
       "\n",
       "    .dataframe tbody tr th {\n",
       "        vertical-align: top;\n",
       "    }\n",
       "\n",
       "    .dataframe thead th {\n",
       "        text-align: right;\n",
       "    }\n",
       "</style>\n",
       "<table border=\"1\" class=\"dataframe\">\n",
       "  <thead>\n",
       "    <tr style=\"text-align: right;\">\n",
       "      <th></th>\n",
       "      <th>region</th>\n",
       "      <th>state</th>\n",
       "      <th>city</th>\n",
       "      <th>Total_Products_Sold</th>\n",
       "    </tr>\n",
       "  </thead>\n",
       "  <tbody>\n",
       "    <tr>\n",
       "      <th>0</th>\n",
       "      <td>Midwest</td>\n",
       "      <td>Minnesota</td>\n",
       "      <td>Minneapolis</td>\n",
       "      <td>40830</td>\n",
       "    </tr>\n",
       "    <tr>\n",
       "      <th>1</th>\n",
       "      <td>Northeast</td>\n",
       "      <td>New York</td>\n",
       "      <td>New York</td>\n",
       "      <td>223908</td>\n",
       "    </tr>\n",
       "    <tr>\n",
       "      <th>2</th>\n",
       "      <td>Northeast</td>\n",
       "      <td>Pennsylvania</td>\n",
       "      <td>Philadelphia</td>\n",
       "      <td>6114</td>\n",
       "    </tr>\n",
       "    <tr>\n",
       "      <th>3</th>\n",
       "      <td>South</td>\n",
       "      <td>Texas</td>\n",
       "      <td>Houston</td>\n",
       "      <td>180644</td>\n",
       "    </tr>\n",
       "    <tr>\n",
       "      <th>4</th>\n",
       "      <td>Southeast</td>\n",
       "      <td>Florida</td>\n",
       "      <td>Miami</td>\n",
       "      <td>146270</td>\n",
       "    </tr>\n",
       "  </tbody>\n",
       "</table>\n",
       "</div>"
      ],
      "text/plain": [
       "      region         state          city  Total_Products_Sold\n",
       "0    Midwest     Minnesota   Minneapolis                40830\n",
       "1  Northeast      New York      New York               223908\n",
       "2  Northeast  Pennsylvania  Philadelphia                 6114\n",
       "3      South         Texas       Houston               180644\n",
       "4  Southeast       Florida         Miami               146270"
      ]
     },
     "execution_count": 94,
     "metadata": {},
     "output_type": "execute_result"
    }
   ],
   "source": [
    "# Show the number products sold for region, state, and city.\n",
    "# Rename the sum to \"Total_Products_Sold\".\n",
    "grouped_df = combined_df.groupby(['region', 'state', 'city']).agg(\n",
    "    Total_Products_Sold=('units_sold', 'sum')\n",
    ").reset_index()\n",
    "\n",
    "# Show the top 5 results.\n",
    "grouped_df.head()"
   ]
  },
  {
   "cell_type": "markdown",
   "metadata": {},
   "source": [
    "#### Using `pivot_table`"
   ]
  },
  {
   "cell_type": "code",
   "execution_count": 95,
   "metadata": {},
   "outputs": [
    {
     "name": "stdout",
     "output_type": "stream",
     "text": [
      "      region       state       city  Total_Products_Sold\n",
      "1  Northeast    New York   New York               223908\n",
      "3      South       Texas    Houston               180644\n",
      "4  Southeast     Florida      Miami               146270\n",
      "7       West      Nevada  Las Vegas               103662\n",
      "8       West  Washington    Seattle                93222\n"
     ]
    }
   ],
   "source": [
    "# Creating a pivot table to show the number of products sold for each region, state, and city\n",
    "pivot_table = pd.pivot_table(\n",
    "    combined_df,\n",
    "    values='units_sold',  \n",
    "    index=['region', 'state', 'city'],\n",
    "    aggfunc='sum'\n",
    ").reset_index()\n",
    "\n",
    "# Rename the \"units_sold\" column to \"Total_Products_Sold\"\n",
    "pivot_table.rename(columns={'units_sold': 'Total_Products_Sold'}, inplace=True)\n",
    "# Sorting the pivot table by \"Total_Products_Sold\" in descending order\n",
    "pivot_table = pivot_table.sort_values(by='Total_Products_Sold',ascending=False)\n",
    "\n",
    "# Show the top 5 results.\n",
    "top_5_results = pivot_table.head(5)\n",
    "print(top_5_results)"
   ]
  },
  {
   "cell_type": "markdown",
   "metadata": {},
   "source": [
    "### 3. Determine which Region had the Most Sales"
   ]
  },
  {
   "cell_type": "markdown",
   "metadata": {},
   "source": [
    "#### Using `groupby`"
   ]
  },
  {
   "cell_type": "code",
   "execution_count": 96,
   "metadata": {},
   "outputs": [
    {
     "name": "stdout",
     "output_type": "stream",
     "text": [
      "      region       state      city  Total Sales\n",
      "1  Northeast    New York  New York     79602470\n",
      "4  Southeast     Florida     Miami     63201726\n",
      "8       West  Washington   Seattle     52661436\n",
      "3      South       Texas   Houston     50913764\n",
      "6       West    Colorado    Denver     41993072\n"
     ]
    }
   ],
   "source": [
    "# Show the total sales for the products sold for each region, state, and city.\n",
    "# Rename the \"total_sales\" column to \"Total Sales\"\n",
    "\n",
    "# Group by 'Region', 'State', and 'City' and calculate sum of 'Total Sales'\n",
    "grouped_df = combined_df.groupby(['region', 'state', 'city']).agg(\n",
    "    Total_Sales=('total_sales', 'sum')\n",
    ").reset_index()\n",
    "# Rename the aggregated column to 'Total Sales'\n",
    "grouped_df.rename(columns={'Total_Sales': 'Total Sales'}, inplace=True)\n",
    "\n",
    "# Sort the results by 'Total Sales' descending and show the top 5\n",
    "sorted_df = grouped_df.sort_values(by='Total Sales', ascending=False).head()\n",
    "\n",
    "\n",
    "# Show the top 5 results.\n",
    "print(sorted_df)\n"
   ]
  },
  {
   "cell_type": "markdown",
   "metadata": {},
   "source": [
    "#### Using `pivot_table`"
   ]
  },
  {
   "cell_type": "code",
   "execution_count": 97,
   "metadata": {},
   "outputs": [
    {
     "name": "stdout",
     "output_type": "stream",
     "text": [
      "                               Total Sales\n",
      "region    state      city                 \n",
      "Northeast New York   New York     79602470\n",
      "Southeast Florida    Miami        63201726\n",
      "West      Washington Seattle      52661436\n",
      "South     Texas      Houston      50913764\n",
      "West      Colorado   Denver       41993072\n"
     ]
    }
   ],
   "source": [
    "# Show the total sales for the products sold for each region, state, and city.\n",
    "\n",
    "\n",
    "\n",
    "# Create a pivot table to aggregate Total Sales by Region, State, and City\n",
    "pivot_table = pd.pivot_table(combined_df, \n",
    "                             values='total_sales', \n",
    "                             index=['region', 'state', 'city'], \n",
    "                             aggfunc='sum')\n",
    "\n",
    "# Optional: Rename the \"total_sales\" column to \"Total Sales\"\n",
    "pivot_table.rename(columns={'total_sales': 'Total Sales'}, inplace=True)\n",
    "\n",
    "# Sort the pivot table by 'Total Sales' descending and show the top 5\n",
    "sorted_pivot_df = pivot_table.sort_values(by='Total Sales', ascending=False)\n",
    "\n",
    "# Show the top 5 results.\n",
    "print(sorted_pivot_df.head())"
   ]
  },
  {
   "cell_type": "markdown",
   "metadata": {},
   "source": [
    "### 4. Determine which Retailer had the Most Sales"
   ]
  },
  {
   "cell_type": "markdown",
   "metadata": {},
   "source": [
    "#### Using `groupby`"
   ]
  },
  {
   "cell_type": "code",
   "execution_count": 98,
   "metadata": {},
   "outputs": [
    {
     "name": "stdout",
     "output_type": "stream",
     "text": [
      "       retailer     region       state       city  Total Sales\n",
      "1   Foot Locker  Northeast    New York   New York     50017136\n",
      "17    West Gear       West  Washington    Seattle     49725350\n",
      "15    West Gear       West    Colorado     Denver     41993072\n",
      "16    West Gear       West      Nevada  Las Vegas     41717018\n",
      "10      Walmart      South       Texas    Houston     38345990\n"
     ]
    }
   ],
   "source": [
    "# Show the total sales for the products sold for each retailer, region, state, and city.\n",
    "# Rename the \"total_sales\" column to \"Total Sales\"\n",
    "\n",
    "# Group by 'Retailer', 'Region', 'State', and 'City' and sum 'Total Sales'\n",
    "grouped_df = combined_df.groupby(['retailer', 'region', 'state', 'city']).agg(\n",
    "    Total_Sales=('total_sales', 'sum')\n",
    ").reset_index()\n",
    "\n",
    "# Rename the 'Total Sales' column to 'Total Sales' (optional if needed)\n",
    "grouped_df.rename(columns={'Total_Sales': 'Total Sales'}, inplace=True)\n",
    "\n",
    "# Sort the results by 'Total Sales' descending and show the top 5\n",
    "sorted_grouped_df = grouped_df.sort_values(by='Total Sales', ascending=False)\n",
    "\n",
    "# Show the top 5 results.\n",
    "top_5_results = sorted_grouped_df.head(5)\n",
    "print(top_5_results)"
   ]
  },
  {
   "cell_type": "markdown",
   "metadata": {},
   "source": [
    "#### Using `pivot_table`"
   ]
  },
  {
   "cell_type": "code",
   "execution_count": 99,
   "metadata": {},
   "outputs": [
    {
     "name": "stdout",
     "output_type": "stream",
     "text": [
      "                                            Total Sales\n",
      "retailer    region    state      city                  \n",
      "Foot Locker Northeast New York   New York      50017136\n",
      "West Gear   West      Washington Seattle       49725350\n",
      "                      Colorado   Denver        41993072\n",
      "                      Nevada     Las Vegas     41717018\n",
      "Walmart     South     Texas      Houston       38345990\n"
     ]
    }
   ],
   "source": [
    "# Show the total sales for the products sold for each retailer, region, state, and city.\n",
    "# Create a pivot table to aggregate Total Sales by 'Retailer', 'Region', 'State', and 'City'\n",
    "pivot_table = pd.pivot_table(combined_df,\n",
    "                             values='total_sales',\n",
    "                             index=['retailer', 'region', 'state', 'city'],\n",
    "                             aggfunc='sum')\n",
    "\n",
    "# Optional: Rename the \"total_sales\" column to \"Total Sales\"\n",
    "pivot_table.rename(columns={'total_sales': 'Total Sales'}, inplace=True)\n",
    "\n",
    "# Sort the pivot table by 'Total Sales' descending and show the top 5\n",
    "sorted_pivot_table = pivot_table.sort_values(by='Total Sales', ascending=False)\n",
    "\n",
    "# Show the top 5 results.\n",
    "top_5_results = sorted_pivot_table.head(5)\n",
    "print(top_5_results)"
   ]
  },
  {
   "cell_type": "markdown",
   "metadata": {},
   "source": [
    "### 5. Determine which Retailer Sold the Most Women's Athletic Footwear"
   ]
  },
  {
   "cell_type": "code",
   "execution_count": 100,
   "metadata": {},
   "outputs": [
    {
     "name": "stdout",
     "output_type": "stream",
     "text": [
      "       retailer  retailer_id invoice_date     region         state  \\\n",
      "21  Foot Locker      1185732   2020-01-04  Northeast      New York   \n",
      "22  Foot Locker      1185732   2020-01-04  Northeast      New York   \n",
      "23  Foot Locker      1185732   2020-01-04  Northeast      New York   \n",
      "26    West Gear      1128299   2020-01-05  Northeast  Pennsylvania   \n",
      "27    West Gear      1128299   2020-01-05  Northeast  Pennsylvania   \n",
      "\n",
      "            city                    product  price_per_unit  units_sold  \\\n",
      "21      New York  Women's Athletic Footwear              36         281   \n",
      "22      New York  Women's Athletic Footwear              41         247   \n",
      "23      New York  Women's Athletic Footwear              45         850   \n",
      "26  Philadelphia  Women's Athletic Footwear              45         300   \n",
      "27  Philadelphia  Women's Athletic Footwear              34          90   \n",
      "\n",
      "    total_sales  operating_profit sales_method  \n",
      "21        10116           3742.92       Outlet  \n",
      "22        10127           4658.42       Online  \n",
      "23       382500         133875.00     In-store  \n",
      "26       135000          47250.00       Outlet  \n",
      "27         3060           1254.60       Outlet  \n"
     ]
    }
   ],
   "source": [
    "# Filter the sales data to get the women's athletic footwear sales data.\n",
    "womens_athletic_sales = combined_df[combined_df['product'].str.contains(\"Women's Athletic Footwear\")]\n",
    "print(womens_athletic_sales.head())\n",
    "\n"
   ]
  },
  {
   "cell_type": "markdown",
   "metadata": {},
   "source": [
    "#### Using `groupby`"
   ]
  },
  {
   "cell_type": "code",
   "execution_count": 101,
   "metadata": {},
   "outputs": [
    {
     "name": "stdout",
     "output_type": "stream",
     "text": [
      "       retailer     region       state       city  Womens_Footwear_Units_Sold\n",
      "1   Foot Locker  Northeast    New York   New York                       21992\n",
      "8       Walmart      South       Texas    Houston                       17432\n",
      "14    West Gear       West      Nevada  Las Vegas                       14154\n",
      "15    West Gear       West  Washington    Seattle                       11618\n",
      "13    West Gear       West    Colorado     Denver                       11394\n"
     ]
    }
   ],
   "source": [
    "# Show the total number of women's athletic footwear sold for each retailer, region, state, and city.\n",
    "# Rename the \"units_sold\" column to \"Womens_Footwear_Units_Sold\"\n",
    "womens_athletic_footwear = combined_df[combined_df['product'].str.contains(\"Women's Athletic Footwear\")]\n",
    "\n",
    "\n",
    "# Group by 'Retailer', 'Region', 'State', and 'City' and sum 'Units Sold'\n",
    "grouped_df = womens_athletic_footwear.groupby(['retailer', 'region', 'state', 'city']).agg(\n",
    "    Womens_Footwear_Units_Sold=('units_sold', 'sum')\n",
    ").reset_index()\n",
    "\n",
    "# Rename the 'Units Sold' column to 'Womens_Footwear_Units_Sold'\n",
    "grouped_df.rename(columns={'Womens_Footwear_Units_Sold': 'Womens_Footwear_Units_Sold'}, inplace=True)\n",
    "\n",
    "# Sort the results by 'Womens_Footwear_Units_Sold' descending and show the top 5\n",
    "sorted_grouped_df = grouped_df.sort_values(by='Womens_Footwear_Units_Sold', ascending=False)\n",
    "\n",
    "# Show the top 5 results.\n",
    "top_5_results = sorted_grouped_df.head(5)\n",
    "print(top_5_results)\n"
   ]
  },
  {
   "cell_type": "markdown",
   "metadata": {},
   "source": [
    "#### Using `pivot_table`"
   ]
  },
  {
   "cell_type": "code",
   "execution_count": 102,
   "metadata": {},
   "outputs": [
    {
     "name": "stdout",
     "output_type": "stream",
     "text": [
      "                                            Womens_Footwear_Units_Sold\n",
      "retailer    region    state      city                                 \n",
      "Foot Locker Northeast New York   New York                        21992\n",
      "Walmart     South     Texas      Houston                         17432\n",
      "West Gear   West      Nevada     Las Vegas                       14154\n",
      "                      Washington Seattle                         11618\n",
      "                      Colorado   Denver                          11394\n"
     ]
    }
   ],
   "source": [
    "# Show the total number of women's athletic footwear sold for each retailer, region, state, and city.\n",
    "womens_athletic_footwear = combined_df[combined_df['product'].str.contains(\"Women's Athletic Footwear\")]\n",
    "\n",
    "# Create a pivot table to aggregate 'Units Sold' by 'Retailer', 'Region', 'State', and 'City'\n",
    "pivot_table = pd.pivot_table(womens_athletic_footwear,\n",
    "                             values='units_sold',\n",
    "                             index=['retailer', 'region', 'state', 'city'],\n",
    "                             aggfunc='sum')\n",
    "\n",
    "# Rename the \"units_sold\" column to \"Womens_Footwear_Units_Sold\"\n",
    "pivot_table.rename(columns={'units_sold': 'Womens_Footwear_Units_Sold'}, inplace=True)\n",
    "\n",
    "\n",
    "# Sort the pivot table by 'Womens_Footwear_Units_Sold' descending and show the top 5\n",
    "sorted_pivot_table = pivot_table.sort_values(by='Womens_Footwear_Units_Sold', ascending=False)\n",
    "\n",
    "# Show the top 5 results.\n",
    "top_5_results = sorted_pivot_table.head(5)\n",
    "print(top_5_results)\n"
   ]
  },
  {
   "cell_type": "markdown",
   "metadata": {},
   "source": [
    "### 6. Determine the Day with the Most Women's Athletic Footwear Sales"
   ]
  },
  {
   "cell_type": "code",
   "execution_count": 108,
   "metadata": {},
   "outputs": [
    {
     "name": "stdout",
     "output_type": "stream",
     "text": [
      "              Total_Sales\n",
      "invoice_date             \n",
      "2020-01-01        1690282\n",
      "2020-01-02        1378820\n",
      "2020-01-03        1265146\n",
      "2020-01-04        1230160\n",
      "2020-01-05        1415658\n",
      "...                   ...\n",
      "2020-12-26        1121956\n",
      "2020-12-27        1331064\n",
      "2020-12-28        1128468\n",
      "2020-12-29        1153796\n",
      "2020-12-30        1616870\n",
      "\n",
      "[358 rows x 1 columns]\n"
     ]
    }
   ],
   "source": [
    "# Create a pivot table with the 'invoice_date' column is the index, and the \"total_sales\" as the values.\n",
    "combined_df['invoice_date'] = pd.to_datetime(combined_df['invoice_date'])\n",
    "\n",
    "pivot_table = pd.pivot_table(\n",
    "    combined_df,\n",
    "    values='total_sales',\n",
    "    index='invoice_date',\n",
    "    aggfunc='sum'\n",
    ")\n",
    "# Rename the total_sales column to make it clear\n",
    "pivot_table.rename(columns={'total_sales': 'Total_Sales'}, inplace=True)\n",
    "\n",
    "# Display the pivot table\n",
    "print(pivot_table)\n"
   ]
  },
  {
   "cell_type": "code",
   "execution_count": 109,
   "metadata": {},
   "outputs": [
    {
     "data": {
      "text/html": [
       "<div>\n",
       "<style scoped>\n",
       "    .dataframe tbody tr th:only-of-type {\n",
       "        vertical-align: middle;\n",
       "    }\n",
       "\n",
       "    .dataframe tbody tr th {\n",
       "        vertical-align: top;\n",
       "    }\n",
       "\n",
       "    .dataframe thead th {\n",
       "        text-align: right;\n",
       "    }\n",
       "</style>\n",
       "<table border=\"1\" class=\"dataframe\">\n",
       "  <thead>\n",
       "    <tr style=\"text-align: right;\">\n",
       "      <th></th>\n",
       "      <th>Total_Sales</th>\n",
       "    </tr>\n",
       "    <tr>\n",
       "      <th>invoice_date</th>\n",
       "      <th></th>\n",
       "    </tr>\n",
       "  </thead>\n",
       "  <tbody>\n",
       "    <tr>\n",
       "      <th>2020-01-01</th>\n",
       "      <td>1690282</td>\n",
       "    </tr>\n",
       "    <tr>\n",
       "      <th>2020-01-02</th>\n",
       "      <td>1378820</td>\n",
       "    </tr>\n",
       "    <tr>\n",
       "      <th>2020-01-03</th>\n",
       "      <td>1265146</td>\n",
       "    </tr>\n",
       "    <tr>\n",
       "      <th>2020-01-04</th>\n",
       "      <td>1230160</td>\n",
       "    </tr>\n",
       "    <tr>\n",
       "      <th>2020-01-05</th>\n",
       "      <td>1415658</td>\n",
       "    </tr>\n",
       "    <tr>\n",
       "      <th>2020-01-06</th>\n",
       "      <td>1311500</td>\n",
       "    </tr>\n",
       "    <tr>\n",
       "      <th>2020-01-07</th>\n",
       "      <td>1754352</td>\n",
       "    </tr>\n",
       "    <tr>\n",
       "      <th>2020-01-08</th>\n",
       "      <td>1336168</td>\n",
       "    </tr>\n",
       "    <tr>\n",
       "      <th>2020-01-09</th>\n",
       "      <td>403658</td>\n",
       "    </tr>\n",
       "    <tr>\n",
       "      <th>2020-01-10</th>\n",
       "      <td>400938</td>\n",
       "    </tr>\n",
       "  </tbody>\n",
       "</table>\n",
       "</div>"
      ],
      "text/plain": [
       "              Total_Sales\n",
       "invoice_date             \n",
       "2020-01-01        1690282\n",
       "2020-01-02        1378820\n",
       "2020-01-03        1265146\n",
       "2020-01-04        1230160\n",
       "2020-01-05        1415658\n",
       "2020-01-06        1311500\n",
       "2020-01-07        1754352\n",
       "2020-01-08        1336168\n",
       "2020-01-09         403658\n",
       "2020-01-10         400938"
      ]
     },
     "execution_count": 109,
     "metadata": {},
     "output_type": "execute_result"
    }
   ],
   "source": [
    "pivot_table.head(10)"
   ]
  },
  {
   "cell_type": "code",
   "execution_count": 110,
   "metadata": {},
   "outputs": [
    {
     "name": "stdout",
     "output_type": "stream",
     "text": [
      "              Total_Sales\n",
      "invoice_date             \n",
      "2020-04-24       14101964\n",
      "2020-05-24        7172882\n",
      "2020-04-27        2608050\n",
      "2020-04-19        2604690\n",
      "2020-02-06        2537736\n",
      "2020-03-10        2527670\n",
      "2020-04-26        2512136\n",
      "2020-05-03        2502192\n",
      "2020-03-04        2359634\n",
      "2020-09-10        2308966\n",
      "The day with the most sales is 2020-04-24 with total sales of 14101964.00\n"
     ]
    },
    {
     "name": "stderr",
     "output_type": "stream",
     "text": [
      "C:\\Users\\dixon\\AppData\\Local\\Temp\\ipykernel_1552\\498029045.py:18: FutureWarning: Series.__getitem__ treating keys as positions is deprecated. In a future version, integer keys will always be treated as labels (consistent with DataFrame behavior). To access a value by position, use `ser.iloc[pos]`\n",
      "  print(f\"The day with the most sales is {max_sales_day[0].date()} with total sales of {max_sales_value[0]:.2f}\")\n"
     ]
    }
   ],
   "source": [
    "# Resample the pivot table into daily bins, and get the total sales for each day.\n",
    "sales_daily = pivot_table.resample('D').sum()\n",
    "\n",
    "# Sort the pivot table by total sales in descending order\n",
    "sorted_sales_daily = sales_daily.sort_values(by='Total_Sales', ascending=False)\n",
    "\n",
    "# Select the top 10 days\n",
    "top_10_days = sorted_sales_daily.head(10)\n",
    "\n",
    "#Display the resampled pivot table\n",
    "print(top_10_days)\n",
    "\n",
    "# Find the day with the maximum sales\n",
    "max_sales_day = sales_daily.idxmax()\n",
    "max_sales_value = sales_daily.max()\n",
    "\n",
    "# Display the day with the most sales and the sales amount\n",
    "print(f\"The day with the most sales is {max_sales_day[0].date()} with total sales of {max_sales_value[0]:.2f}\")\n"
   ]
  },
  {
   "cell_type": "markdown",
   "metadata": {},
   "source": [
    "### 7.  Determine the Week with the Most Women's Athletic Footwear Sales"
   ]
  },
  {
   "cell_type": "code",
   "execution_count": 111,
   "metadata": {},
   "outputs": [
    {
     "name": "stdout",
     "output_type": "stream",
     "text": [
      "              Total_Sales\n",
      "invoice_date             \n",
      "2020-04-26       26331646\n",
      "2020-05-03       14699084\n",
      "2020-03-15       13439494\n",
      "2020-09-13       13019306\n",
      "2020-02-09       12469902\n",
      "2020-05-24       11836642\n",
      "2020-03-08       11543130\n",
      "2020-02-02       10706378\n",
      "2020-08-23       10462180\n",
      "2020-08-02       10206778\n",
      "The week with the most sales is 2020-04-26 with total sales of 26331646.00\n"
     ]
    },
    {
     "name": "stderr",
     "output_type": "stream",
     "text": [
      "C:\\Users\\dixon\\AppData\\Local\\Temp\\ipykernel_1552\\3581348059.py:19: FutureWarning: Series.__getitem__ treating keys as positions is deprecated. In a future version, integer keys will always be treated as labels (consistent with DataFrame behavior). To access a value by position, use `ser.iloc[pos]`\n",
      "  print(f\"The week with the most sales is {max_sales_week[0].date()} with total sales of {max_sales_value[0]:.2f}\")\n"
     ]
    }
   ],
   "source": [
    "# Resample the pivot table into weekly bins, and get the total sales for each week.\n",
    "\n",
    "sales_weekly = pivot_table.resample('W').sum()\n",
    "\n",
    "# Sort the pivot table by total sales in descending order\n",
    "sorted_sales_weekly = sales_weekly.sort_values(by='Total_Sales', ascending=False)\n",
    "\n",
    "# Select the top 10 days\n",
    "top_10_weeks = sorted_sales_weekly.head(10)\n",
    "\n",
    "#Display the resampled pivot table\n",
    "print(top_10_weeks)\n",
    "\n",
    "# Find the week with the maximum sales\n",
    "max_sales_week = sales_weekly.idxmax()\n",
    "max_sales_value = sales_weekly.max()\n",
    "\n",
    "# Display the week with the most sales and the sales amount\n",
    "print(f\"The week with the most sales is {max_sales_week[0].date()} with total sales of {max_sales_value[0]:.2f}\")"
   ]
  },
  {
   "cell_type": "code",
   "execution_count": null,
   "metadata": {},
   "outputs": [],
   "source": []
  }
 ],
 "metadata": {
  "kernelspec": {
   "display_name": "Python 3 (ipykernel)",
   "language": "python",
   "name": "python3"
  },
  "language_info": {
   "codemirror_mode": {
    "name": "ipython",
    "version": 3
   },
   "file_extension": ".py",
   "mimetype": "text/x-python",
   "name": "python",
   "nbconvert_exporter": "python",
   "pygments_lexer": "ipython3",
   "version": "3.11.7"
  }
 },
 "nbformat": 4,
 "nbformat_minor": 4
}
