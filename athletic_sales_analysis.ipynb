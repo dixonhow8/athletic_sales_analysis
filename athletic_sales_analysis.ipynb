{
 "cells": [
  {
   "cell_type": "code",
   "execution_count": 2,
   "metadata": {},
   "outputs": [],
   "source": [
    "# Import Libraries and Dependencies\n",
    "import pandas as pd"
   ]
  },
  {
   "cell_type": "markdown",
   "metadata": {},
   "source": [
    "### 1. Combine and Clean the Data\n",
    "#### Import CSVs"
   ]
  },
  {
   "cell_type": "code",
   "execution_count": 3,
   "metadata": {},
   "outputs": [],
   "source": [
    "# Read the CSV files into DataFrames.\n",
    "# Reading the CSV files\n",
    "athletic_sales_2020_df = pd.read_csv('athletic_sales_2020.csv')\n",
    "athletic_sales_2021_df = pd.read_csv('athletic_sales_2020.csv')\n",
    "\n"
   ]
  },
  {
   "cell_type": "code",
   "execution_count": 4,
   "metadata": {},
   "outputs": [
    {
     "name": "stdout",
     "output_type": "stream",
     "text": [
      "      retailer  retailer_id invoice_date     region         state  \\\n",
      "0  Foot Locker      1185732       1/1/20  Northeast      New York   \n",
      "1  Foot Locker      1185732       1/1/20  Northeast  Pennsylvania   \n",
      "2  Foot Locker      1185732       1/1/20  Northeast  Pennsylvania   \n",
      "3  Foot Locker      1185732       1/1/20  Northeast      New York   \n",
      "4  Foot Locker      1185732       1/1/20  Northeast  Pennsylvania   \n",
      "\n",
      "           city                product  price_per_unit  units_sold  \\\n",
      "0      New York  Men's Street Footwear              50        1200   \n",
      "1  Philadelphia        Women's Apparel              68          83   \n",
      "2  Philadelphia        Women's Apparel              75         275   \n",
      "3      New York  Men's Street Footwear              34         384   \n",
      "4  Philadelphia        Women's Apparel              53          83   \n",
      "\n",
      "   total_sales  operating_profit sales_method  \n",
      "0       600000         300000.00     In-store  \n",
      "1         5644           2426.92       Online  \n",
      "2       206250          61875.00       Outlet  \n",
      "3        13056           6789.12       Outlet  \n",
      "4         4399           1407.68       Outlet  \n"
     ]
    }
   ],
   "source": [
    "# Display the 2020 sales DataFrame\n",
    "\n",
    "print(athletic_sales_2020_df.head())\n",
    "\n",
    "\n"
   ]
  },
  {
   "cell_type": "code",
   "execution_count": 5,
   "metadata": {},
   "outputs": [
    {
     "name": "stdout",
     "output_type": "stream",
     "text": [
      "      retailer  retailer_id invoice_date     region         state  \\\n",
      "0  Foot Locker      1185732       1/1/20  Northeast      New York   \n",
      "1  Foot Locker      1185732       1/1/20  Northeast  Pennsylvania   \n",
      "2  Foot Locker      1185732       1/1/20  Northeast  Pennsylvania   \n",
      "3  Foot Locker      1185732       1/1/20  Northeast      New York   \n",
      "4  Foot Locker      1185732       1/1/20  Northeast  Pennsylvania   \n",
      "\n",
      "           city                product  price_per_unit  units_sold  \\\n",
      "0      New York  Men's Street Footwear              50        1200   \n",
      "1  Philadelphia        Women's Apparel              68          83   \n",
      "2  Philadelphia        Women's Apparel              75         275   \n",
      "3      New York  Men's Street Footwear              34         384   \n",
      "4  Philadelphia        Women's Apparel              53          83   \n",
      "\n",
      "   total_sales  operating_profit sales_method  \n",
      "0       600000         300000.00     In-store  \n",
      "1         5644           2426.92       Online  \n",
      "2       206250          61875.00       Outlet  \n",
      "3        13056           6789.12       Outlet  \n",
      "4         4399           1407.68       Outlet  \n"
     ]
    }
   ],
   "source": [
    "# Display the 2021 sales DataFrame\n",
    "print(athletic_sales_2021_df.head())"
   ]
  },
  {
   "cell_type": "markdown",
   "metadata": {},
   "source": [
    "#### Check the data types of each DataFrame"
   ]
  },
  {
   "cell_type": "code",
   "execution_count": 6,
   "metadata": {},
   "outputs": [
    {
     "name": "stdout",
     "output_type": "stream",
     "text": [
      "retailer             object\n",
      "retailer_id           int64\n",
      "invoice_date         object\n",
      "region               object\n",
      "state                object\n",
      "city                 object\n",
      "product              object\n",
      "price_per_unit        int64\n",
      "units_sold            int64\n",
      "total_sales           int64\n",
      "operating_profit    float64\n",
      "sales_method         object\n",
      "dtype: object\n"
     ]
    }
   ],
   "source": [
    "# Check the 2020 sales data types.\n",
    "\n",
    "print(athletic_sales_2020_df.dtypes)\n"
   ]
  },
  {
   "cell_type": "code",
   "execution_count": 7,
   "metadata": {},
   "outputs": [
    {
     "name": "stdout",
     "output_type": "stream",
     "text": [
      "retailer             object\n",
      "retailer_id           int64\n",
      "invoice_date         object\n",
      "region               object\n",
      "state                object\n",
      "city                 object\n",
      "product              object\n",
      "price_per_unit        int64\n",
      "units_sold            int64\n",
      "total_sales           int64\n",
      "operating_profit    float64\n",
      "sales_method         object\n",
      "dtype: object\n"
     ]
    }
   ],
   "source": [
    "# Check the 2021 sales data types.\n",
    "print(athletic_sales_2021_df.dtypes)\n"
   ]
  },
  {
   "cell_type": "markdown",
   "metadata": {},
   "source": [
    "#### Combine the sales data by rows."
   ]
  },
  {
   "cell_type": "code",
   "execution_count": 8,
   "metadata": {},
   "outputs": [
    {
     "name": "stdout",
     "output_type": "stream",
     "text": [
      "      retailer  retailer_id invoice_date     region         state  \\\n",
      "0  Foot Locker      1185732       1/1/20  Northeast      New York   \n",
      "1  Foot Locker      1185732       1/1/20  Northeast  Pennsylvania   \n",
      "2  Foot Locker      1185732       1/1/20  Northeast  Pennsylvania   \n",
      "3  Foot Locker      1185732       1/1/20  Northeast      New York   \n",
      "4  Foot Locker      1185732       1/1/20  Northeast  Pennsylvania   \n",
      "\n",
      "           city                product  price_per_unit  units_sold  \\\n",
      "0      New York  Men's Street Footwear              50        1200   \n",
      "1  Philadelphia        Women's Apparel              68          83   \n",
      "2  Philadelphia        Women's Apparel              75         275   \n",
      "3      New York  Men's Street Footwear              34         384   \n",
      "4  Philadelphia        Women's Apparel              53          83   \n",
      "\n",
      "   total_sales  operating_profit sales_method  \n",
      "0       600000         300000.00     In-store  \n",
      "1         5644           2426.92       Online  \n",
      "2       206250          61875.00       Outlet  \n",
      "3        13056           6789.12       Outlet  \n",
      "4         4399           1407.68       Outlet  \n",
      "Combined DataFrame shape: (2594, 12)\n"
     ]
    }
   ],
   "source": [
    "# Combine the 2020 and 2021 sales DataFrames on the rows and reset the index.\n",
    "\n",
    "combined_df = pd.concat([athletic_sales_2021_df, athletic_sales_2021_df], axis=0)\n",
    "\n",
    "# Resetting the index\n",
    "combined_df.reset_index(drop=True, inplace=True)\n",
    "\n",
    "# Displaying the first few rows of the combined DataFrame\n",
    "print(combined_df.head())\n",
    "\n",
    "# Checking the shape of the combined DataFrame\n",
    "print(f\"Combined DataFrame shape: {combined_df.shape}\")\n"
   ]
  },
  {
   "cell_type": "code",
   "execution_count": 9,
   "metadata": {},
   "outputs": [
    {
     "name": "stdout",
     "output_type": "stream",
     "text": [
      "Null values in each column:\n",
      "retailer            0\n",
      "retailer_id         0\n",
      "invoice_date        0\n",
      "region              0\n",
      "state               0\n",
      "city                0\n",
      "product             0\n",
      "price_per_unit      0\n",
      "units_sold          0\n",
      "total_sales         0\n",
      "operating_profit    0\n",
      "sales_method        0\n",
      "dtype: int64\n",
      "\n",
      "Columns with any null values:\n",
      "Series([], dtype: int64)\n"
     ]
    }
   ],
   "source": [
    "# Check if any values are null.\n",
    "null_values = combined_df.isnull().sum()\n",
    "print(\"Null values in each column:\")\n",
    "print(null_values)\n",
    "\n",
    "# Displaying columns with any null values\n",
    "print(\"\\nColumns with any null values:\")\n",
    "print(null_values[null_values > 0])\n"
   ]
  },
  {
   "cell_type": "code",
   "execution_count": 10,
   "metadata": {},
   "outputs": [
    {
     "name": "stdout",
     "output_type": "stream",
     "text": [
      "retailer             object\n",
      "retailer_id           int64\n",
      "invoice_date         object\n",
      "region               object\n",
      "state                object\n",
      "city                 object\n",
      "product              object\n",
      "price_per_unit        int64\n",
      "units_sold            int64\n",
      "total_sales           int64\n",
      "operating_profit    float64\n",
      "sales_method         object\n",
      "dtype: object\n"
     ]
    }
   ],
   "source": [
    "# Check the data type of each column\n",
    "print(combined_df.dtypes)\n"
   ]
  },
  {
   "cell_type": "code",
   "execution_count": 11,
   "metadata": {},
   "outputs": [
    {
     "name": "stderr",
     "output_type": "stream",
     "text": [
      "C:\\Users\\dixon\\AppData\\Local\\Temp\\ipykernel_15820\\241911.py:3: UserWarning: Could not infer format, so each element will be parsed individually, falling back to `dateutil`. To ensure parsing is consistent and as-expected, please specify a format.\n",
      "  combined_df['invoice_date'] = pd.to_datetime(combined_df['invoice_date'])\n"
     ]
    }
   ],
   "source": [
    "# Convert the \"invoice_date\" to a datetime datatype\n",
    "\n",
    "combined_df['invoice_date'] = pd.to_datetime(combined_df['invoice_date'])\n",
    "\n",
    "# Formatting the \"invoice_date\" column to mm/dd/yyyy\n",
    "combined_df['invoice_date'] = combined_df['invoice_date'].dt.strftime('%m/%d/%Y')\n",
    "\n"
   ]
  },
  {
   "cell_type": "code",
   "execution_count": 12,
   "metadata": {},
   "outputs": [
    {
     "name": "stdout",
     "output_type": "stream",
     "text": [
      "retailer             object\n",
      "retailer_id           int64\n",
      "invoice_date         object\n",
      "region               object\n",
      "state                object\n",
      "city                 object\n",
      "product              object\n",
      "price_per_unit        int64\n",
      "units_sold            int64\n",
      "total_sales           int64\n",
      "operating_profit    float64\n",
      "sales_method         object\n",
      "dtype: object\n",
      "      retailer  retailer_id invoice_date     region         state  \\\n",
      "0  Foot Locker      1185732   01/01/2020  Northeast      New York   \n",
      "1  Foot Locker      1185732   01/01/2020  Northeast  Pennsylvania   \n",
      "2  Foot Locker      1185732   01/01/2020  Northeast  Pennsylvania   \n",
      "3  Foot Locker      1185732   01/01/2020  Northeast      New York   \n",
      "4  Foot Locker      1185732   01/01/2020  Northeast  Pennsylvania   \n",
      "\n",
      "           city                product  price_per_unit  units_sold  \\\n",
      "0      New York  Men's Street Footwear              50        1200   \n",
      "1  Philadelphia        Women's Apparel              68          83   \n",
      "2  Philadelphia        Women's Apparel              75         275   \n",
      "3      New York  Men's Street Footwear              34         384   \n",
      "4  Philadelphia        Women's Apparel              53          83   \n",
      "\n",
      "   total_sales  operating_profit sales_method  \n",
      "0       600000         300000.00     In-store  \n",
      "1         5644           2426.92       Online  \n",
      "2       206250          61875.00       Outlet  \n",
      "3        13056           6789.12       Outlet  \n",
      "4         4399           1407.68       Outlet  \n"
     ]
    }
   ],
   "source": [
    "# Confirm that the \"invoice_date\" data type has been changed.\n",
    "print(combined_df.dtypes)\n",
    "\n",
    "# Displaying the first few rows of the DataFrame to verify the conversion\n",
    "print(combined_df.head())"
   ]
  },
  {
   "cell_type": "markdown",
   "metadata": {},
   "source": [
    "### 2. Determine which Region Sold the Most Products"
   ]
  },
  {
   "cell_type": "markdown",
   "metadata": {},
   "source": [
    "#### Using `groupby`"
   ]
  },
  {
   "cell_type": "code",
   "execution_count": 13,
   "metadata": {},
   "outputs": [
    {
     "data": {
      "text/html": [
       "<div>\n",
       "<style scoped>\n",
       "    .dataframe tbody tr th:only-of-type {\n",
       "        vertical-align: middle;\n",
       "    }\n",
       "\n",
       "    .dataframe tbody tr th {\n",
       "        vertical-align: top;\n",
       "    }\n",
       "\n",
       "    .dataframe thead th {\n",
       "        text-align: right;\n",
       "    }\n",
       "</style>\n",
       "<table border=\"1\" class=\"dataframe\">\n",
       "  <thead>\n",
       "    <tr style=\"text-align: right;\">\n",
       "      <th></th>\n",
       "      <th>region</th>\n",
       "      <th>state</th>\n",
       "      <th>city</th>\n",
       "      <th>Total_Products_Sold</th>\n",
       "    </tr>\n",
       "  </thead>\n",
       "  <tbody>\n",
       "    <tr>\n",
       "      <th>0</th>\n",
       "      <td>Midwest</td>\n",
       "      <td>Minnesota</td>\n",
       "      <td>Minneapolis</td>\n",
       "      <td>40830</td>\n",
       "    </tr>\n",
       "    <tr>\n",
       "      <th>1</th>\n",
       "      <td>Northeast</td>\n",
       "      <td>New York</td>\n",
       "      <td>New York</td>\n",
       "      <td>223908</td>\n",
       "    </tr>\n",
       "    <tr>\n",
       "      <th>2</th>\n",
       "      <td>Northeast</td>\n",
       "      <td>Pennsylvania</td>\n",
       "      <td>Philadelphia</td>\n",
       "      <td>6114</td>\n",
       "    </tr>\n",
       "    <tr>\n",
       "      <th>3</th>\n",
       "      <td>South</td>\n",
       "      <td>Texas</td>\n",
       "      <td>Houston</td>\n",
       "      <td>180644</td>\n",
       "    </tr>\n",
       "    <tr>\n",
       "      <th>4</th>\n",
       "      <td>Southeast</td>\n",
       "      <td>Florida</td>\n",
       "      <td>Miami</td>\n",
       "      <td>146270</td>\n",
       "    </tr>\n",
       "  </tbody>\n",
       "</table>\n",
       "</div>"
      ],
      "text/plain": [
       "      region         state          city  Total_Products_Sold\n",
       "0    Midwest     Minnesota   Minneapolis                40830\n",
       "1  Northeast      New York      New York               223908\n",
       "2  Northeast  Pennsylvania  Philadelphia                 6114\n",
       "3      South         Texas       Houston               180644\n",
       "4  Southeast       Florida         Miami               146270"
      ]
     },
     "execution_count": 13,
     "metadata": {},
     "output_type": "execute_result"
    }
   ],
   "source": [
    "# Show the number products sold for region, state, and city.\n",
    "# Rename the sum to \"Total_Products_Sold\".\n",
    "grouped_df = combined_df.groupby(['region', 'state', 'city']).agg(\n",
    "    Total_Products_Sold=('units_sold', 'sum')\n",
    ").reset_index()\n",
    "\n",
    "# Show the top 5 results.\n",
    "grouped_df.head()"
   ]
  },
  {
   "cell_type": "markdown",
   "metadata": {},
   "source": [
    "#### Using `pivot_table`"
   ]
  },
  {
   "cell_type": "code",
   "execution_count": 14,
   "metadata": {},
   "outputs": [
    {
     "name": "stdout",
     "output_type": "stream",
     "text": [
      "      region       state       city  Total_Products_Sold\n",
      "1  Northeast    New York   New York               223908\n",
      "3      South       Texas    Houston               180644\n",
      "4  Southeast     Florida      Miami               146270\n",
      "7       West      Nevada  Las Vegas               103662\n",
      "8       West  Washington    Seattle                93222\n"
     ]
    }
   ],
   "source": [
    "# Creating a pivot table to show the number of products sold for each region, state, and city\n",
    "pivot_table = pd.pivot_table(\n",
    "    combined_df,\n",
    "    values='units_sold',  \n",
    "    index=['region', 'state', 'city'],\n",
    "    aggfunc='sum'\n",
    ").reset_index()\n",
    "\n",
    "# Rename the \"units_sold\" column to \"Total_Products_Sold\"\n",
    "pivot_table.rename(columns={'units_sold': 'Total_Products_Sold'}, inplace=True)\n",
    "# Sorting the pivot table by \"Total_Products_Sold\" in descending order\n",
    "pivot_table = pivot_table.sort_values(by='Total_Products_Sold',ascending=False)\n",
    "\n",
    "# Show the top 5 results.\n",
    "top_5_results = pivot_table.head(5)\n",
    "print(top_5_results)"
   ]
  },
  {
   "cell_type": "markdown",
   "metadata": {},
   "source": [
    "### 3. Determine which Region had the Most Sales"
   ]
  },
  {
   "cell_type": "markdown",
   "metadata": {},
   "source": [
    "#### Using `groupby`"
   ]
  },
  {
   "cell_type": "code",
   "execution_count": 18,
   "metadata": {},
   "outputs": [
    {
     "name": "stdout",
     "output_type": "stream",
     "text": [
      "      region       state      city  Total Sales\n",
      "1  Northeast    New York  New York     79602470\n",
      "4  Southeast     Florida     Miami     63201726\n",
      "8       West  Washington   Seattle     52661436\n",
      "3      South       Texas   Houston     50913764\n",
      "6       West    Colorado    Denver     41993072\n"
     ]
    }
   ],
   "source": [
    "# Show the total sales for the products sold for each region, state, and city.\n",
    "# Rename the \"total_sales\" column to \"Total Sales\"\n",
    "\n",
    "# Group by 'Region', 'State', and 'City' and calculate sum of 'Total Sales'\n",
    "grouped_region_state_city = combined_df.groupby(['region', 'state', 'city'])['total_sales'].sum().reset_index()\n",
    "\n",
    "# Rename the aggregated column to 'Total Sales'\n",
    "grouped_region_state_city = grouped_region_state_city.rename(columns={'total_sales': 'Total Sales'})\n",
    "\n",
    "# Sort the results by 'Total Sales' descending and show the top 5\n",
    "top_5_results = grouped_region_state_city.sort_values(by='Total Sales', ascending=False).head(5)\n",
    "\n",
    "# Show the top 5 results.\n",
    "print(top_5_results)\n"
   ]
  },
  {
   "cell_type": "markdown",
   "metadata": {},
   "source": [
    "#### Using `pivot_table`"
   ]
  },
  {
   "cell_type": "code",
   "execution_count": 20,
   "metadata": {},
   "outputs": [
    {
     "name": "stdout",
     "output_type": "stream",
     "text": [
      "                               Total Sales\n",
      "region    state      city                 \n",
      "Northeast New York   New York     79602470\n",
      "Southeast Florida    Miami        63201726\n",
      "West      Washington Seattle      52661436\n",
      "South     Texas      Houston      50913764\n",
      "West      Colorado   Denver       41993072\n"
     ]
    }
   ],
   "source": [
    "# Show the total sales for the products sold for each region, state, and city.\n",
    "\n",
    "# Create a pivot table to aggregate Total Sales by Region, State, and City\n",
    "pivot_table = pd.pivot_table(combined_df, \n",
    "                             values='total_sales', \n",
    "                             index=['region', 'state', 'city'], \n",
    "                             aggfunc='sum')\n",
    "\n",
    "# Optional: Rename the \"total_sales\" column to \"Total Sales\"\n",
    "pivot_table = pivot_table.rename(columns={'total_sales': 'Total Sales'})\n",
    "\n",
    "# Sort the pivot table by 'Total Sales' descending and show the top 5\n",
    "top_5_results = pivot_table.sort_values(by='Total Sales', ascending=False).head(5)\n",
    "\n",
    "\n",
    "# Show the top 5 results.\n",
    "print(top_5_results)"
   ]
  },
  {
   "cell_type": "markdown",
   "metadata": {},
   "source": [
    "### 4. Determine which Retailer had the Most Sales"
   ]
  },
  {
   "cell_type": "markdown",
   "metadata": {},
   "source": [
    "#### Using `groupby`"
   ]
  },
  {
   "cell_type": "code",
   "execution_count": 21,
   "metadata": {},
   "outputs": [
    {
     "name": "stdout",
     "output_type": "stream",
     "text": [
      "       retailer     region       state       city  Total Sales\n",
      "1   Foot Locker  Northeast    New York   New York     50017136\n",
      "17    West Gear       West  Washington    Seattle     49725350\n",
      "15    West Gear       West    Colorado     Denver     41993072\n",
      "16    West Gear       West      Nevada  Las Vegas     41717018\n",
      "10      Walmart      South       Texas    Houston     38345990\n"
     ]
    }
   ],
   "source": [
    "# Show the total sales for the products sold for each retailer, region, state, and city.\n",
    "# Rename the \"total_sales\" column to \"Total Sales\"\n",
    "\n",
    "# Group by 'Retailer', 'Region', 'State', and 'City' and sum 'Total Sales'\n",
    "grouped4 = combined_df.groupby(['retailer', 'region', 'state', 'city'])['total_sales'].sum().reset_index()\n",
    "\n",
    "# Rename the 'Total Sales' column to 'Total Sales' (optional if needed)\n",
    "grouped4 = grouped4.rename(columns={'total_sales': 'Total Sales'})\n",
    "\n",
    "# Sort the results by 'Total Sales' descending and show the top 5\n",
    "top_5_results = grouped4.sort_values(by='Total Sales', ascending=False).head(5)\n",
    "\n",
    "# Show the top 5 results.\n",
    "print(top_5_results)"
   ]
  },
  {
   "cell_type": "markdown",
   "metadata": {},
   "source": [
    "#### Using `pivot_table`"
   ]
  },
  {
   "cell_type": "code",
   "execution_count": 23,
   "metadata": {},
   "outputs": [
    {
     "name": "stdout",
     "output_type": "stream",
     "text": [
      "                                            Total Sales\n",
      "retailer    region    state      city                  \n",
      "Foot Locker Northeast New York   New York      50017136\n",
      "West Gear   West      Washington Seattle       49725350\n",
      "                      Colorado   Denver        41993072\n",
      "                      Nevada     Las Vegas     41717018\n",
      "Walmart     South     Texas      Houston       38345990\n"
     ]
    }
   ],
   "source": [
    "# Show the total sales for the products sold for each retailer, region, state, and city.\n",
    "# Create a pivot table to aggregate Total Sales by 'Retailer', 'Region', 'State', and 'City'\n",
    "pivot_table = pd.pivot_table(combined_df, \n",
    "                             values='total_sales', \n",
    "                             index=['retailer', 'region', 'state', 'city'], \n",
    "                             aggfunc='sum')\n",
    "\n",
    "# Optional: Rename the \"total_sales\" column to \"Total Sales\"\n",
    "pivot_table = pivot_table.rename(columns={'total_sales': 'Total Sales'})\n",
    "\n",
    "# Sort the pivot table by 'Total Sales' descending and show the top 5\n",
    "top_5_results = pivot_table.sort_values(by='Total Sales', ascending=False).head(5)\n",
    "\n",
    "\n",
    "# Show the top 5 results.\n",
    "print(top_5_results)"
   ]
  },
  {
   "cell_type": "markdown",
   "metadata": {},
   "source": [
    "### 5. Determine which Retailer Sold the Most Women's Athletic Footwear"
   ]
  },
  {
   "cell_type": "code",
   "execution_count": 27,
   "metadata": {},
   "outputs": [
    {
     "name": "stdout",
     "output_type": "stream",
     "text": [
      "       retailer  retailer_id invoice_date     region         state  \\\n",
      "21  Foot Locker      1185732   01/04/2020  Northeast      New York   \n",
      "22  Foot Locker      1185732   01/04/2020  Northeast      New York   \n",
      "23  Foot Locker      1185732   01/04/2020  Northeast      New York   \n",
      "26    West Gear      1128299   01/05/2020  Northeast  Pennsylvania   \n",
      "27    West Gear      1128299   01/05/2020  Northeast  Pennsylvania   \n",
      "29    West Gear      1128299   01/05/2020  Northeast  Pennsylvania   \n",
      "54    West Gear      1128299   01/11/2020       West        Nevada   \n",
      "55    West Gear      1128299   01/11/2020       West        Nevada   \n",
      "56    West Gear      1128299   01/11/2020       West        Nevada   \n",
      "72    West Gear      1128299   01/17/2020       West        Nevada   \n",
      "\n",
      "            city                    product  price_per_unit  units_sold  \\\n",
      "21      New York  Women's Athletic Footwear              36         281   \n",
      "22      New York  Women's Athletic Footwear              41         247   \n",
      "23      New York  Women's Athletic Footwear              45         850   \n",
      "26  Philadelphia  Women's Athletic Footwear              45         300   \n",
      "27  Philadelphia  Women's Athletic Footwear              34          90   \n",
      "29  Philadelphia  Women's Athletic Footwear              43          87   \n",
      "54     Las Vegas  Women's Athletic Footwear              45         275   \n",
      "55     Las Vegas  Women's Athletic Footwear              30          85   \n",
      "56     Las Vegas  Women's Athletic Footwear              44          74   \n",
      "72     Las Vegas  Women's Athletic Footwear              50          84   \n",
      "\n",
      "    total_sales  operating_profit sales_method  \n",
      "21        10116           3742.92       Outlet  \n",
      "22        10127           4658.42       Online  \n",
      "23       382500         133875.00     In-store  \n",
      "26       135000          47250.00       Outlet  \n",
      "27         3060           1254.60       Outlet  \n",
      "29         3741           1870.50       Online  \n",
      "54       123750          43312.50       Outlet  \n",
      "55         2550           1045.50       Outlet  \n",
      "56         3256           1497.76       Online  \n",
      "72         4200           1974.00       Online  \n"
     ]
    }
   ],
   "source": [
    "# Filter the sales data to get the women's athletic footwear sales data.\n",
    "\n",
    "womens_athletic_sales = combined_df[combined_df['product'] == \"Women's Athletic Footwear\"]\n",
    "\n",
    "print(womens_athletic_sales.head())\n"
   ]
  },
  {
   "cell_type": "markdown",
   "metadata": {},
   "source": [
    "#### Using `groupby`"
   ]
  },
  {
   "cell_type": "code",
   "execution_count": 31,
   "metadata": {},
   "outputs": [
    {
     "name": "stdout",
     "output_type": "stream",
     "text": [
      "       retailer     region       state       city  Womens_Footwear_Units_Sold\n",
      "1   Foot Locker  Northeast    New York   New York                      144392\n",
      "10      Walmart      South       Texas    Houston                      130144\n",
      "16    West Gear       West      Nevada  Las Vegas                      103662\n",
      "17    West Gear       West  Washington    Seattle                       84524\n",
      "15    West Gear       West    Colorado     Denver                       82756\n"
     ]
    }
   ],
   "source": [
    "# Show the total number of women's athletic footwear sold for each retailer, region, state, and city.\n",
    "# Rename the \"units_sold\" column to \"Womens_Footwear_Units_Sold\"\n",
    "\n",
    "# Group by 'Retailer', 'Region', 'State', and 'City' and sum 'Units Sold'\n",
    "grouped5 = combined_df.groupby(['retailer', 'region', 'state', 'city'])['units_sold'].sum().reset_index()\n",
    "\n",
    "# Rename the 'Units Sold' column to 'Womens_Footwear_Units_Sold'\n",
    "grouped5 = grouped5.rename(columns={'units_sold': 'Womens_Footwear_Units_Sold'})\n",
    "\n",
    "# Sort the results by 'Womens_Footwear_Units_Sold' descending and show the top 5\n",
    "top_5_results = grouped5.sort_values(by='Womens_Footwear_Units_Sold', ascending=False).head(5)\n",
    "\n",
    "# Show the top 5 results.\n",
    "print(top_5_results)"
   ]
  },
  {
   "cell_type": "markdown",
   "metadata": {},
   "source": [
    "#### Using `pivot_table`"
   ]
  },
  {
   "cell_type": "code",
   "execution_count": 32,
   "metadata": {},
   "outputs": [
    {
     "name": "stdout",
     "output_type": "stream",
     "text": [
      "                                            Womens_Footwear_Units_Sold\n",
      "retailer    region    state      city                                 \n",
      "Foot Locker Northeast New York   New York                       144392\n",
      "Walmart     South     Texas      Houston                        130144\n",
      "West Gear   West      Nevada     Las Vegas                      103662\n",
      "                      Washington Seattle                         84524\n",
      "                      Colorado   Denver                          82756\n"
     ]
    }
   ],
   "source": [
    "# Show the total number of women's athletic footwear sold for each retailer, region, state, and city.\n",
    "\n",
    "# Create a pivot table to aggregate 'Units Sold' by 'Retailer', 'Region', 'State', and 'City'\n",
    "pivot_table = pd.pivot_table(combined_df,\n",
    "                             values='units_sold',\n",
    "                             index=['retailer', 'region', 'state', 'city'],\n",
    "                             aggfunc='sum')\n",
    "\n",
    "# Rename the \"units_sold\" column to \"Womens_Footwear_Units_Sold\"\n",
    "pivot_table = pivot_table.rename(columns={'units_sold': 'Womens_Footwear_Units_Sold'})\n",
    "\n",
    "# Sort the pivot table by 'Womens_Footwear_Units_Sold' descending and show the top 5\n",
    "top_5_results = pivot_table.sort_values(by='Womens_Footwear_Units_Sold', ascending=False).head(5)\n",
    "\n",
    "# Show the top 5 results.\n",
    "print(top_5_results)\n"
   ]
  },
  {
   "cell_type": "markdown",
   "metadata": {},
   "source": [
    "### 6. Determine the Day with the Most Women's Athletic Footwear Sales"
   ]
  },
  {
   "cell_type": "code",
   "execution_count": 48,
   "metadata": {},
   "outputs": [
    {
     "name": "stdout",
     "output_type": "stream",
     "text": [
      "              Total Sales\n",
      "invoice_date             \n",
      "01/01/2020        1690282\n",
      "01/02/2020        1378820\n",
      "01/03/2020        1265146\n",
      "01/04/2020        1230160\n",
      "01/05/2020        1415658\n",
      "...                   ...\n",
      "12/26/2020        1121956\n",
      "12/27/2020        1331064\n",
      "12/28/2020        1128468\n",
      "12/29/2020        1153796\n",
      "12/30/2020        1616870\n",
      "\n",
      "[358 rows x 1 columns]\n"
     ]
    }
   ],
   "source": [
    "# Create a pivot table with the 'invoice_date' column is the index, and the \"total_sales\" as the values.\n",
    "\n",
    "pivot_table = pd.pivot_table(combined_df, \n",
    "                             values='total_sales', \n",
    "                             index='invoice_date', \n",
    "                             aggfunc='sum')\n",
    "\n",
    "# Optional: Rename the \"total_sales\" column to \"Total Sales\"\n",
    "pivot_table = pivot_table.rename(columns={'total_sales': 'Total Sales'})\n",
    "\n",
    "# Show the table.\n",
    "print(pivot_table)"
   ]
  },
  {
   "cell_type": "code",
   "execution_count": 41,
   "metadata": {},
   "outputs": [
    {
     "data": {
      "text/html": [
       "<div>\n",
       "<style scoped>\n",
       "    .dataframe tbody tr th:only-of-type {\n",
       "        vertical-align: middle;\n",
       "    }\n",
       "\n",
       "    .dataframe tbody tr th {\n",
       "        vertical-align: top;\n",
       "    }\n",
       "\n",
       "    .dataframe thead th {\n",
       "        text-align: right;\n",
       "    }\n",
       "</style>\n",
       "<table border=\"1\" class=\"dataframe\">\n",
       "  <thead>\n",
       "    <tr style=\"text-align: right;\">\n",
       "      <th></th>\n",
       "      <th>total_sales</th>\n",
       "    </tr>\n",
       "    <tr>\n",
       "      <th>invoice_date</th>\n",
       "      <th></th>\n",
       "    </tr>\n",
       "  </thead>\n",
       "  <tbody>\n",
       "    <tr>\n",
       "      <th>01/01/2020</th>\n",
       "      <td>1690282</td>\n",
       "    </tr>\n",
       "    <tr>\n",
       "      <th>01/02/2020</th>\n",
       "      <td>1378820</td>\n",
       "    </tr>\n",
       "    <tr>\n",
       "      <th>01/03/2020</th>\n",
       "      <td>1265146</td>\n",
       "    </tr>\n",
       "    <tr>\n",
       "      <th>01/04/2020</th>\n",
       "      <td>1230160</td>\n",
       "    </tr>\n",
       "    <tr>\n",
       "      <th>01/05/2020</th>\n",
       "      <td>1415658</td>\n",
       "    </tr>\n",
       "  </tbody>\n",
       "</table>\n",
       "</div>"
      ],
      "text/plain": [
       "              total_sales\n",
       "invoice_date             \n",
       "01/01/2020        1690282\n",
       "01/02/2020        1378820\n",
       "01/03/2020        1265146\n",
       "01/04/2020        1230160\n",
       "01/05/2020        1415658"
      ]
     },
     "execution_count": 41,
     "metadata": {},
     "output_type": "execute_result"
    }
   ],
   "source": [
    "pivot_table.head()"
   ]
  },
  {
   "cell_type": "code",
   "execution_count": 1,
   "metadata": {},
   "outputs": [
    {
     "ename": "NameError",
     "evalue": "name 'pivot_table' is not defined",
     "output_type": "error",
     "traceback": [
      "\u001b[1;31m---------------------------------------------------------------------------\u001b[0m",
      "\u001b[1;31mNameError\u001b[0m                                 Traceback (most recent call last)",
      "Cell \u001b[1;32mIn[1], line 2\u001b[0m\n\u001b[0;32m      1\u001b[0m \u001b[38;5;66;03m# Resample the pivot table into daily bins, and get the total sales for each day.\u001b[39;00m\n\u001b[1;32m----> 2\u001b[0m pivot_table \u001b[38;5;241m=\u001b[39m pivot_table\u001b[38;5;241m.\u001b[39mresample(\u001b[38;5;124m'\u001b[39m\u001b[38;5;124mD\u001b[39m\u001b[38;5;124m'\u001b[39m)\u001b[38;5;241m.\u001b[39msum()\n\u001b[0;32m      4\u001b[0m \u001b[38;5;66;03m# Sort the resampled pivot table in ascending order on \"shape\".\u001b[39;00m\n\u001b[0;32m      5\u001b[0m pivot_table\u001b[38;5;241m.\u001b[39msort_values(by\u001b[38;5;241m=\u001b[39m\u001b[38;5;124m\"\u001b[39m\u001b[38;5;124mshape\u001b[39m\u001b[38;5;124m\"\u001b[39m, ascending\u001b[38;5;241m=\u001b[39m\u001b[38;5;28;01mFalse\u001b[39;00m)\u001b[38;5;241m.\u001b[39mhead(\u001b[38;5;241m10\u001b[39m)\n",
      "\u001b[1;31mNameError\u001b[0m: name 'pivot_table' is not defined"
     ]
    }
   ],
   "source": [
    "# Resample the pivot table into daily bins, and get the total sales for each day.\n",
    "pivot_table = pivot_table.resample('D').sum()\n",
    "\n",
    "# Sort the resampled pivot table in ascending order on \"shape\".\n",
    "pivot_table.sort_values(by=\"shape\", ascending=False).head(10)\n",
    "\n",
    "\n"
   ]
  },
  {
   "cell_type": "markdown",
   "metadata": {},
   "source": [
    "### 7.  Determine the Week with the Most Women's Athletic Footwear Sales"
   ]
  },
  {
   "cell_type": "code",
   "execution_count": null,
   "metadata": {},
   "outputs": [
    {
     "data": {
      "text/html": [
       "<div>\n",
       "<style scoped>\n",
       "    .dataframe tbody tr th:only-of-type {\n",
       "        vertical-align: middle;\n",
       "    }\n",
       "\n",
       "    .dataframe tbody tr th {\n",
       "        vertical-align: top;\n",
       "    }\n",
       "\n",
       "    .dataframe thead th {\n",
       "        text-align: right;\n",
       "    }\n",
       "</style>\n",
       "<table border=\"1\" class=\"dataframe\">\n",
       "  <thead>\n",
       "    <tr style=\"text-align: right;\">\n",
       "      <th></th>\n",
       "      <th>Total Sales</th>\n",
       "    </tr>\n",
       "    <tr>\n",
       "      <th>invoice_date</th>\n",
       "      <th></th>\n",
       "    </tr>\n",
       "  </thead>\n",
       "  <tbody>\n",
       "    <tr>\n",
       "      <th>2021-12-19</th>\n",
       "      <td>3098970</td>\n",
       "    </tr>\n",
       "    <tr>\n",
       "      <th>2021-12-12</th>\n",
       "      <td>2922161</td>\n",
       "    </tr>\n",
       "    <tr>\n",
       "      <th>2021-07-11</th>\n",
       "      <td>2835078</td>\n",
       "    </tr>\n",
       "    <tr>\n",
       "      <th>2021-07-18</th>\n",
       "      <td>2801449</td>\n",
       "    </tr>\n",
       "    <tr>\n",
       "      <th>2021-11-14</th>\n",
       "      <td>2531721</td>\n",
       "    </tr>\n",
       "    <tr>\n",
       "      <th>2021-08-22</th>\n",
       "      <td>2491259</td>\n",
       "    </tr>\n",
       "    <tr>\n",
       "      <th>2021-08-15</th>\n",
       "      <td>2463941</td>\n",
       "    </tr>\n",
       "    <tr>\n",
       "      <th>2021-11-21</th>\n",
       "      <td>2449537</td>\n",
       "    </tr>\n",
       "    <tr>\n",
       "      <th>2021-05-16</th>\n",
       "      <td>2422132</td>\n",
       "    </tr>\n",
       "    <tr>\n",
       "      <th>2021-06-13</th>\n",
       "      <td>2358602</td>\n",
       "    </tr>\n",
       "  </tbody>\n",
       "</table>\n",
       "</div>"
      ],
      "text/plain": [
       "              Total Sales\n",
       "invoice_date             \n",
       "2021-12-19        3098970\n",
       "2021-12-12        2922161\n",
       "2021-07-11        2835078\n",
       "2021-07-18        2801449\n",
       "2021-11-14        2531721\n",
       "2021-08-22        2491259\n",
       "2021-08-15        2463941\n",
       "2021-11-21        2449537\n",
       "2021-05-16        2422132\n",
       "2021-06-13        2358602"
      ]
     },
     "execution_count": 23,
     "metadata": {},
     "output_type": "execute_result"
    }
   ],
   "source": [
    "# Resample the pivot table into weekly bins, and get the total sales for each week.\n",
    "\n",
    "\n",
    "# Sort the resampled pivot table in descending order on \"Total Sales\".\n"
   ]
  },
  {
   "cell_type": "code",
   "execution_count": null,
   "metadata": {},
   "outputs": [],
   "source": []
  }
 ],
 "metadata": {
  "kernelspec": {
   "display_name": "Python 3 (ipykernel)",
   "language": "python",
   "name": "python3"
  },
  "language_info": {
   "codemirror_mode": {
    "name": "ipython",
    "version": 3
   },
   "file_extension": ".py",
   "mimetype": "text/x-python",
   "name": "python",
   "nbconvert_exporter": "python",
   "pygments_lexer": "ipython3",
   "version": "3.11.7"
  }
 },
 "nbformat": 4,
 "nbformat_minor": 4
}
